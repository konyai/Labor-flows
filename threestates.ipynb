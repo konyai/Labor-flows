{
 "cells": [
  {
   "cell_type": "markdown",
   "metadata": {},
   "source": [
    "# Description\n",
    "\n",
    "This notebook calculates flow transition rates using the method from Konya (2018). The first part reads in data from Eurostat, using the [pandaSDMX](https://www.google.com) package.\n",
    "\n",
    "The second part calculates the flow rates. The idea is that every period there is a potential pool of searchers: those whose jobs just dissolved ($\\rho E_{t-1}$), those who were unemployed ($U_{t-1}$) and those who were inactive ($I_{t-1}$). Out of this pool, $\\lambda$ fraction searches for jobs. A fraction $f_t$ finds jobs within the period, the rest become unemployed.\n",
    "\n",
    "The flow rates $\\lambda_t$, $f_t$ and $\\rho_t$ can be identified from job tenure data. The key equations are the following (from Kónya, 2018):\n",
    "\\begin{align}\n",
    "\\lambda_t f_t &= \\frac{e_t^s}{1-e_{t-1}} \\\\\n",
    "\\rho_t &= \\frac{1}{1-\\lambda_t f_t} \\left(1-\\frac{e_t-e_{t-1}^s}{e_t}\\right) \\\\\n",
    "\\lambda_t &= \\frac{i_t}{\\rho e_{t-1}+u_{t-1}+i_{t-1}}\n",
    "\\end{align}\n",
    "The calculations rely on the data series read in the previous step."
   ]
  },
  {
   "cell_type": "markdown",
   "metadata": {},
   "source": [
    "# Get the data"
   ]
  },
  {
   "cell_type": "code",
   "execution_count": 1,
   "metadata": {},
   "outputs": [],
   "source": [
    "# Query Eurostat\n",
    "from pandasdmx import Request as rq\n",
    "import matplotlib.pyplot as plt\n",
    "estat = rq('ESTAT')\n",
    "\n",
    "# Import metadata for the required datasets\n",
    "meta1 = estat.datastructure('DSD_lfsq_ugan').write()\n",
    "meta2 = estat.datastructure('DSD_lfsq_igan').write()\n",
    "meta3 = estat.datastructure('DSD_lfsq_egdn2').write()\n",
    "meta4 = estat.datastructure('DSD_lfsq_ugad').write()\n",
    "meta5 = estat.datastructure('DSD_lfsi_long_q').write()\n",
    "# meta1.codelist[:50]"
   ]
  },
  {
   "cell_type": "code",
   "execution_count": 2,
   "metadata": {},
   "outputs": [],
   "source": [
    "# Total number of unemployed\n",
    "resp1 = estat.data('lfsq_ugan', key={'FREQ': 'Q', 'SEX': 'T', 'AGE': 'Y15-64', 'CITIZEN': 'TOTAL'},params={'startPeriod': '2008'})\n",
    "u = resp1.write()\n",
    "u.columns = u.columns.get_level_values('GEO')\n",
    "u = u.sort_index(ascending='True')\n",
    "\n",
    "# Total number of inactive\n",
    "resp2 = estat.data('lfsq_igan', key={'FREQ': 'Q', 'SEX': 'T', 'AGE': 'Y15-64', 'CITIZEN': 'TOTAL'},params={'startPeriod': '2007'})\n",
    "inac = resp2.write()\n",
    "inac.columns = inac.columns.get_level_values('GEO')\n",
    "inac = inac.sort_index(ascending='True')\n",
    "\n",
    "# Employed by duration: first long term, next short term, finally no response\n",
    "resp3 = estat.data('lfsq_egdn2', key={'FREQ': 'Q', 'SEX': 'T', 'AGE': 'Y15-64','DURATION': 'M_GE3', 'NACE_R2': 'TOTAL'})\n",
    "el = resp3.write()\n",
    "el.columns = el.columns.get_level_values('GEO')\n",
    "el = el.sort_index(ascending='True')\n",
    "resp4 = estat.data('lfsq_egdn2', key={'FREQ': 'Q', 'SEX': 'T', 'AGE': 'Y15-64','DURATION': 'M_LT3', 'NACE_R2': 'TOTAL'})\n",
    "es = resp4.write()\n",
    "es.columns = el.columns.get_level_values('GEO')\n",
    "es = es.sort_index(ascending='True')\n",
    "resp5 = estat.data('lfsq_egdn2', key={'FREQ': 'Q', 'SEX': 'T', 'AGE': 'Y15-64','DURATION': 'NRP', 'NACE_R2': 'TOTAL'})\n",
    "enr = resp5.write()\n",
    "enr.columns = enr.columns.get_level_values('GEO')\n",
    "enr = enr.sort_index(ascending='True')\n",
    "\n",
    "# Unemployed by duration: first 1-2 month, next less than 1 month\n",
    "resp6 = estat.data('lfsq_ugad', key={'FREQ': 'Q', 'SEX': 'T', 'AGE': 'Y15-64', 'DURATION': 'M1-2'},params={'startPeriod': '2008'})\n",
    "us12 = resp6.write()\n",
    "us12.columns = us12.columns.get_level_values('GEO')\n",
    "us12 = us12.sort_index(ascending='True')\n",
    "resp7 = estat.data('lfsq_ugad', key={'FREQ': 'Q', 'SEX': 'T', 'AGE': 'Y15-64', 'DURATION': 'M_LT1'},params={'startPeriod': '2008'})\n",
    "usl1 = resp7.write()\n",
    "usl1.columns = usl1.columns.get_level_values('GEO')\n",
    "usl1 = usl1.sort_index(ascending='True')\n",
    "\n",
    "# Gross flows data lfsi_long_q\n",
    "flow = {}\n",
    "for s in ['E_E','E_I','E_U','I_E','I_I','I_U','U_E','U_I','U_U']:\n",
    "    resp = estat.data('lfsi_long_q', key={'FREQ': 'Q', 'UNIT': 'THS_PER', 'INDIC_EM': s, 'SEX': 'T'},params={'startPeriod': '2008'})\n",
    "    flow[s] = resp.write()\n",
    "    flow[s].columns = flow[s].columns.get_level_values('GEO')\n",
    "    flow[s] = flow[s].sort_index(ascending='True')"
   ]
  },
  {
   "cell_type": "markdown",
   "metadata": {},
   "source": [
    "# Calculate the rates"
   ]
  },
  {
   "cell_type": "code",
   "execution_count": 3,
   "metadata": {},
   "outputs": [],
   "source": [
    "# Two state model\n",
    "e = es+el\n",
    "e = e.sort_index(ascending='True')\n",
    "us = us12+usl1\n",
    "us = us.sort_index(ascending='True')\n",
    "em = e/(e+u)\n",
    "em = em.sort_index(ascending='True')\n",
    "ems = es/(e+u)\n",
    "ems = ems.sort_index(ascending='True')\n",
    "un = u/(e+u)\n",
    "uns = us/(e+u)\n",
    "fu = 1-(un.shift(-1)-uns.shift(-1))/un\n",
    "rhou = (uns.shift(-1)/em)/(1-fu)\n",
    "fe = ems.shift(-1)/un\n",
    "rhoe = (1-(em.shift(-1)-ems.shift(-1))/em)/(1-fe)\n",
    "\n",
    "# Three state model\n",
    "pop = inac+e+u\n",
    "inac = inac/pop\n",
    "e = e/pop\n",
    "es = es/pop\n",
    "u = u/pop\n",
    "lf = es.shift(-1)/(1-e)\n",
    "rho = (1-(e.shift(-1)-es.shift(-1))/e)/(1-lf)\n",
    "lamb = 1-inac.shift(-1)/((1-rho)*e)\n",
    "f = lf/lamb\n",
    "s = lamb*(1-(1-rho)*e)\n",
    "\n",
    "# Rates from gross flow data\n",
    "f_ue = flow['U_E']/(flow['U_U']+flow['U_E']+flow['U_I'])\n",
    "rho_eui = (flow['E_U']+flow['E_I'])/(flow['E_E']+flow['E_U']+flow['E_I'])\n",
    "lambda_gf = (flow['I_E']+flow['I_U'])/(flow['I_E']+flow['I_U']+flow['I_I'])"
   ]
  },
  {
   "cell_type": "code",
   "execution_count": 4,
   "metadata": {},
   "outputs": [
    {
     "data": {
      "text/plain": [
       "<matplotlib.axes._subplots.AxesSubplot at 0x7fdedce43668>"
      ]
     },
     "execution_count": 4,
     "metadata": {},
     "output_type": "execute_result"
    },
    {
     "data": {
      "image/png": "[encoded data removed]",
      "text/plain": [
       "<Figure size 432x288 with 1 Axes>"
      ]
     },
     "metadata": {},
     "output_type": "display_data"
    }
   ],
   "source": [
    "fu['HU'].plot(kind = 'line')"
   ]
  },
  {
   "cell_type": "code",
   "execution_count": null,
   "metadata": {},
   "outputs": [],
   "source": []
  }
 ],
 "metadata": {
  "kernelspec": {
   "display_name": "Python 3",
   "language": "python",
   "name": "python3"
  },
  "language_info": {
   "codemirror_mode": {
    "name": "ipython",
    "version": 3
   },
   "file_extension": ".py",
   "mimetype": "text/x-python",
   "name": "python",
   "nbconvert_exporter": "python",
   "pygments_lexer": "ipython3",
   "version": "3.6.5"
  }
 },
 "nbformat": 4,
 "nbformat_minor": 2
}
